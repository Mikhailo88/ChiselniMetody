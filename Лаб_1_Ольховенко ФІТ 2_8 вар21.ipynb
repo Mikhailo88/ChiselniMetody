{
  "nbformat": 4,
  "nbformat_minor": 0,
  "metadata": {
    "colab": {
      "provenance": [],
      "authorship_tag": "ABX9TyO2WK5wzjay/IVME38c4jjI",
      "include_colab_link": true
    },
    "kernelspec": {
      "name": "python3",
      "display_name": "Python 3"
    },
    "language_info": {
      "name": "python"
    }
  },
  "cells": [
    {
      "cell_type": "markdown",
      "metadata": {
        "id": "view-in-github",
        "colab_type": "text"
      },
      "source": [
        "<a href=\"https://colab.research.google.com/github/Mikhailo88/ChiselniMetody/blob/main/%D0%9B%D0%A0_1_%D0%9E%D0%BB%D1%8C%D1%85%D0%BE%D0%B2%D0%B5%D0%BD%D0%BA%D0%BE.ipynb\" target=\"_parent\"><img src=\"https://colab.research.google.com/assets/colab-badge.svg\" alt=\"Open In Colab\"/></a>"
      ]
    },
    {
      "cell_type": "markdown",
      "source": [
        "#Ольховенко Михайло\n",
        "Лабораторна робота 1\n",
        "Варіант 21\n",
        "група 2-8"
      ],
      "metadata": {
        "id": "iV-rsLX1GyvW"
      }
    },
    {
      "cell_type": "code",
      "execution_count": 2,
      "metadata": {
        "colab": {
          "base_uri": "https://localhost:8080/"
        },
        "id": "2Nlq5SPRGoEZ",
        "outputId": "d57ad42e-9714-405a-cca6-ec044dccd431"
      },
      "outputs": [
        {
          "output_type": "stream",
          "name": "stdout",
          "text": [
            "1 рівність точніше з відносною похибкою: 9e-05\n"
          ]
        }
      ],
      "source": [
        "import numpy as np\n",
        "\n",
        "def f(x, y):\n",
        "    return np.abs(x - y) / np.abs(x)\n",
        "\n",
        "def main():\n",
        "    x1 = np.sqrt(88)\n",
        "    x2 = 18 / 7\n",
        "    x1_1 = 9.38\n",
        "    x2_2 = 2.57\n",
        "\n",
        "    rel_err_x1 = f(x1, x1_1)\n",
        "    rel_err_x2 = f(x2, x2_2)\n",
        "\n",
        "    if rel_err_x1 < rel_err_x2:\n",
        "        print(\"1 рівність точніше з відносною похибкою:\", round(rel_err_x1, 5))\n",
        "    elif rel_err_x2 < rel_err_x1:\n",
        "        print(\"2 рівність точніше з відносною похибкою:\", round(rel_err_x2, 5))\n",
        "    else:\n",
        "        print(\"Обидві рівності мають однакову точність з відносною похибкою:\", round(rel_err_x2, 5))\n",
        "\n",
        "if __name__ == \"__main__\":\n",
        "    main()"
      ]
    }
  ]
}
