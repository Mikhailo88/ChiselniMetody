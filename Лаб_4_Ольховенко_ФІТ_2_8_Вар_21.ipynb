{
  "nbformat": 4,
  "nbformat_minor": 0,
  "metadata": {
    "colab": {
      "provenance": [],
      "authorship_tag": "ABX9TyOz177RctZQZ61z6lj8XebI",
      "include_colab_link": true
    },
    "kernelspec": {
      "name": "python3",
      "display_name": "Python 3"
    },
    "language_info": {
      "name": "python"
    }
  },
  "cells": [
    {
      "cell_type": "markdown",
      "metadata": {
        "id": "view-in-github",
        "colab_type": "text"
      },
      "source": [
        "<a href=\"https://colab.research.google.com/github/Mikhailo88/ChiselniMetody/blob/main/%D0%9B%D0%B0%D0%B1_4_%D0%9E%D0%BB%D1%8C%D1%85%D0%BE%D0%B2%D0%B5%D0%BD%D0%BA%D0%BE_%D0%A4%D0%86%D0%A2_2_8_%D0%92%D0%B0%D1%80_21.ipynb\" target=\"_parent\"><img src=\"https://colab.research.google.com/assets/colab-badge.svg\" alt=\"Open In Colab\"/></a>"
      ]
    },
    {
      "cell_type": "code",
      "source": [
        "!pip install numpy"
      ],
      "metadata": {
        "colab": {
          "base_uri": "https://localhost:8080/"
        },
        "id": "zJa2wY4NFhd4",
        "outputId": "1fae380a-e2de-4b32-9259-e343ab94e59d"
      },
      "execution_count": 4,
      "outputs": [
        {
          "output_type": "stream",
          "name": "stdout",
          "text": [
            "Requirement already satisfied: numpy in /usr/local/lib/python3.10/dist-packages (1.26.4)\n"
          ]
        }
      ]
    },
    {
      "cell_type": "markdown",
      "source": [
        "1.Знайти матрицю C = AB-BA:"
      ],
      "metadata": {
        "id": "aWMFp4BOF1zR"
      }
    },
    {
      "cell_type": "code",
      "execution_count": 30,
      "metadata": {
        "colab": {
          "base_uri": "https://localhost:8080/"
        },
        "id": "_kAzijtqEZbk",
        "outputId": "6d8f393f-4512-4bb4-8cbb-6f0ab18975db"
      },
      "outputs": [
        {
          "output_type": "stream",
          "name": "stdout",
          "text": [
            "Матриця C:\n",
            "[[0 0 0]\n",
            " [0 0 0]\n",
            " [0 0 0]]\n"
          ]
        }
      ],
      "source": [
        "import numpy as np\n",
        "A = np.matrix([[1, 1, 1], [0, 1, 1], [0, 0, 1]])\n",
        "B = np.matrix([[7, 5, 3], [0, 7, 5], [0, 0, 7]])\n",
        "AB = np.dot(A, B)\n",
        "BA = np.dot(B, A)\n",
        "C = AB - BA\n",
        "print(\"Матриця C:\")\n",
        "print(C)"
      ]
    },
    {
      "cell_type": "markdown",
      "source": [
        "2.Піднести матрицю до ступеня:"
      ],
      "metadata": {
        "id": "LPJ71xMCHW42"
      }
    },
    {
      "cell_type": "code",
      "source": [
        "a = np.matrix([[-1, 0, 2], [0, 1, 0], [1, 2, -1]])\n",
        "c = a ** 2\n",
        "print(\"Матриця піднесена до степеня:\")\n",
        "print(c)"
      ],
      "metadata": {
        "colab": {
          "base_uri": "https://localhost:8080/"
        },
        "id": "J1nvoNhRHejd",
        "outputId": "83b2979b-fd67-4d76-c5e0-039a80b8fe86"
      },
      "execution_count": 7,
      "outputs": [
        {
          "output_type": "stream",
          "name": "stdout",
          "text": [
            "Матриця піднесена до степеня:\n",
            "[[ 3  4 -4]\n",
            " [ 0  1  0]\n",
            " [-2  0  3]]\n"
          ]
        }
      ]
    },
    {
      "cell_type": "markdown",
      "source": [
        "3.Знайти добуток матриць:"
      ],
      "metadata": {
        "id": "SijIA2QSJO_r"
      }
    },
    {
      "cell_type": "code",
      "source": [
        "A = np.matrix([[3, 5], [6, -1]])\n",
        "B = np.matrix([[2, 1], [-3, 2]])\n",
        "C = np.dot(A, B)\n",
        "print(\"Матриця C:\")\n",
        "print(C)"
      ],
      "metadata": {
        "colab": {
          "base_uri": "https://localhost:8080/"
        },
        "id": "RWRroK0kJX1D",
        "outputId": "ec7d1f43-6807-457b-f4d8-f9d666475d51"
      },
      "execution_count": 8,
      "outputs": [
        {
          "output_type": "stream",
          "name": "stdout",
          "text": [
            "Матриця C:\n",
            "[[-9 13]\n",
            " [15  4]]\n"
          ]
        }
      ]
    },
    {
      "cell_type": "markdown",
      "source": [
        "4.Обчислити визначники:"
      ],
      "metadata": {
        "id": "aAHrFvdyLC7R"
      }
    },
    {
      "cell_type": "code",
      "source": [
        "a = np.array([[1, 2, 3], [-1, 2, 1], [1, 3, 2]])\n",
        "a_det = np.linalg.det(a)\n",
        "print(\"Визначник матриці:\")\n",
        "print(a_det.round(2))"
      ],
      "metadata": {
        "colab": {
          "base_uri": "https://localhost:8080/"
        },
        "id": "qgfNKJqoLRCZ",
        "outputId": "ca9d7183-129f-4266-d75f-4dfd81c86d49"
      },
      "execution_count": 9,
      "outputs": [
        {
          "output_type": "stream",
          "name": "stdout",
          "text": [
            "Визначник матриці:\n",
            "-8.0\n"
          ]
        }
      ]
    },
    {
      "cell_type": "markdown",
      "source": [
        "5.Обчислити визначники:"
      ],
      "metadata": {
        "id": "Ow6tBRWpLlFr"
      }
    },
    {
      "cell_type": "code",
      "source": [
        "a = np.array([[1, 2, 0, 0, 0], [1, 0, 2, 0, 0], [1, 0, 0, 2, 0], [1, 0, 0, 0, 2], [0, 0, 1, 1, 1]])\n",
        "a_det = np.linalg.det(a)\n",
        "print(\"Визначник матриці:\")\n",
        "print(a_det.round(2))"
      ],
      "metadata": {
        "colab": {
          "base_uri": "https://localhost:8080/"
        },
        "id": "CEO2Hb7NLr8a",
        "outputId": "3ca3b864-3477-4ecb-e801-595215ab09e3"
      },
      "execution_count": null,
      "outputs": [
        {
          "output_type": "stream",
          "name": "stdout",
          "text": [
            "Визначник матриці:\n",
            "-24.0\n"
          ]
        }
      ]
    },
    {
      "cell_type": "markdown",
      "source": [
        "6.Знайти обернену матрицю до матриць:"
      ],
      "metadata": {
        "id": "x0hTXY-wMOvk"
      }
    },
    {
      "cell_type": "code",
      "source": [
        "a = np.matrix([[2, 5, 7], [6, 3, 4], [5, -2, -3]])\n",
        "a_inv = np.linalg.inv(a)\n",
        "print(\"Обернена матриця:\")\n",
        "print(a_inv)"
      ],
      "metadata": {
        "colab": {
          "base_uri": "https://localhost:8080/"
        },
        "id": "-1xGNNBZMUDF",
        "outputId": "4913aa13-edb2-4411-f2c9-29ed6d9f9269"
      },
      "execution_count": 10,
      "outputs": [
        {
          "output_type": "stream",
          "name": "stdout",
          "text": [
            "Обернена матриця:\n",
            "[[  1.  -1.   1.]\n",
            " [-38.  41. -34.]\n",
            " [ 27. -29.  24.]]\n"
          ]
        }
      ]
    },
    {
      "cell_type": "markdown",
      "source": [
        "7.Визначити ранг матриць:\n"
      ],
      "metadata": {
        "id": "36fCEx0OMmF9"
      }
    },
    {
      "cell_type": "code",
      "source": [
        "a = np.matrix([[-2, 3, 1, -1], [3, 2, 1, 4], [1, 2, 3, 4], [0, 2, 3, 3]])\n",
        "rank = np.linalg.matrix_rank(a)\n",
        "print(\"Ранг матриці:\")\n",
        "print(rank)"
      ],
      "metadata": {
        "colab": {
          "base_uri": "https://localhost:8080/"
        },
        "id": "oawSEKuQMssu",
        "outputId": "0fdcd6a8-33c3-461b-d53a-43912ac4e66f"
      },
      "execution_count": 11,
      "outputs": [
        {
          "output_type": "stream",
          "name": "stdout",
          "text": [
            "Ранг матриці:\n",
            "3\n"
          ]
        }
      ]
    },
    {
      "cell_type": "markdown",
      "source": [
        "Розв'язати систему лінійних рівнянь методом Крамера, матричним методом і м. Гауса. Потім зробити перевірку за допомогою solve() пакету linalg:\n"
      ],
      "metadata": {
        "id": "_Zr0qd1ENuZB"
      }
    },
    {
      "cell_type": "markdown",
      "source": [
        "Метод Крамера:"
      ],
      "metadata": {
        "id": "bgBzPAhpj_9O"
      }
    },
    {
      "cell_type": "code",
      "source": [
        "def Cramer(coeff, constants):\n",
        "    det_coeff = np.linalg.det(coeff)\n",
        "    sol = []\n",
        "    for i in range(len(coeff)):\n",
        "        mod_coeff = np.copy(coeff)\n",
        "        mod_coeff[:, i] = constants\n",
        "        sol.append(round(np.linalg.det(mod_coeff) / det_coeff, 1))\n",
        "    return sol\n",
        "def main():\n",
        "    a = np.array([[4.0, 1.0, 4.0],\n",
        "                  [1.0, 1.0, 2.0],\n",
        "                  [2.0, 1.0, 2.0]])\n",
        "\n",
        "    b = np.array([-2.0, -1.0, 0.0])\n",
        "\n",
        "    x_Cramer = Cramer(a, b)\n",
        "    print(\"Метод Крамера:\", x_Cramer)\n",
        "if __name__ == \"__main__\":\n",
        "    main()\n"
      ],
      "metadata": {
        "id": "_C1xfsvNOPG7",
        "colab": {
          "base_uri": "https://localhost:8080/"
        },
        "outputId": "93d527c2-c188-45a1-b376-a185753bd29e"
      },
      "execution_count": 24,
      "outputs": [
        {
          "output_type": "stream",
          "name": "stdout",
          "text": [
            "Метод Крамера: [1.0, 2.0, -2.0]\n"
          ]
        }
      ]
    },
    {
      "cell_type": "markdown",
      "source": [
        "Матричний метод:"
      ],
      "metadata": {
        "id": "niv_djpy9O58"
      }
    },
    {
      "cell_type": "code",
      "source": [
        "def matrix_method(coefficients, constants):\n",
        "    inverse_matrix = np.linalg.inv(coefficients)\n",
        "    return np.dot(inverse_matrix, constants)\n",
        "def main():\n",
        "    a = np.array([[4.0, 1.0, 4.0],\n",
        "                  [1.0, 1.0, 2.0],\n",
        "                  [2.0, 1.0, 2.0]])\n",
        "\n",
        "    b = np.array([-2.0, -1.0, 0.0])\n",
        "\n",
        "    x_matrix = matrix_method(a, b)\n",
        "    print(\"Матричний метод:\", x_matrix)\n",
        "\n",
        "if __name__ == \"__main__\":\n",
        "    main()"
      ],
      "metadata": {
        "colab": {
          "base_uri": "https://localhost:8080/"
        },
        "id": "2t9X5l3k9S_7",
        "outputId": "8e5bceb1-d217-4e40-c2bc-23eeb1ef9eac"
      },
      "execution_count": 20,
      "outputs": [
        {
          "output_type": "stream",
          "name": "stdout",
          "text": [
            "Матричний метод: [ 1.  2. -2.]\n"
          ]
        }
      ]
    },
    {
      "cell_type": "markdown",
      "source": [
        "Метод Гауса:"
      ],
      "metadata": {
        "id": "WJjI8l3unHKZ"
      }
    },
    {
      "cell_type": "code",
      "source": [
        "def Gauss(a, b):\n",
        "    n = len(b)\n",
        "\n",
        "    for k in range(0, n-1):\n",
        "        for i in range(k+1, n):\n",
        "            if a[i, k] != 0.0:\n",
        "                lam = a[i, k] / a[k, k]\n",
        "                a[i, k+1:n] = a[i, k+1:n] - lam * a[k, k+1:n]\n",
        "                b[i] = b[i] - lam * b[k]\n",
        "\n",
        "    x = np.zeros(n)\n",
        "    for k in range(n-1, -1, -1):\n",
        "        x[k] = (b[k] - np.dot(a[k, k+1:n], x[k+1:n])) / a[k, k]\n",
        "\n",
        "    return x\n",
        "def main():\n",
        "    a = np.array([[4.0, 1.0, 4.0],\n",
        "                  [1.0, 1.0, 2.0],\n",
        "                  [2.0, 1.0, 2.0]])\n",
        "\n",
        "    b = np.array([-2.0, -1.0, 0.0])\n",
        "    x_Gauss = Gauss(a, b)\n",
        "    print(\"Метод Гауса:\", x_Gauss)\n",
        "\n",
        "if __name__ == \"__main__\":\n",
        "    main()"
      ],
      "metadata": {
        "colab": {
          "base_uri": "https://localhost:8080/"
        },
        "id": "klz02bipnJ1h",
        "outputId": "68acebf2-3557-40fa-86d6-d9f02c9a23d5"
      },
      "execution_count": 28,
      "outputs": [
        {
          "output_type": "stream",
          "name": "stdout",
          "text": [
            "Метод Гауса: [ 1.  2. -2.]\n",
            "Перевірка:\n",
            "x = [ 0.4  0.  -0.9]\n"
          ]
        }
      ]
    },
    {
      "cell_type": "markdown",
      "source": [
        "Перевірка методом Solve"
      ],
      "metadata": {
        "id": "nlJhVEv89wp7"
      }
    },
    {
      "cell_type": "code",
      "source": [
        "a = np.array([[4.0, 1.0, 4.0],\n",
        "              [1.0, 1.0, 2.0],\n",
        "              [2.0, 1.0, 2.0]])\n",
        "\n",
        "b = np.array([-2.0, -1.0, 0.0])\n",
        "\n",
        "x = np.linalg.solve(a, b)\n",
        "\n",
        "print('Розв\\'язок системи рівнянь:')\n",
        "print('x =', x.round(1))\n"
      ],
      "metadata": {
        "colab": {
          "base_uri": "https://localhost:8080/"
        },
        "id": "0o0m7__s9v2j",
        "outputId": "2768066d-5500-4ce7-e7ab-2e9ee255e64c"
      },
      "execution_count": 29,
      "outputs": [
        {
          "output_type": "stream",
          "name": "stdout",
          "text": [
            "Розв'язок системи рівнянь:\n",
            "x = [ 1.  2. -2.]\n"
          ]
        }
      ]
    },
    {
      "cell_type": "markdown",
      "source": [
        "# Завдання 2\n",
        "3. Створіть прямокутну матрицю А, яка має N рядків і M стовпців з випадковими елементами. Визначте середні значення для всіх рядків і стовпців матриці"
      ],
      "metadata": {
        "id": "PSwJoZesD4pE"
      }
    },
    {
      "cell_type": "code",
      "source": [
        "N = int(input(\"Введіть кількість рядків (N): \"))\n",
        "M = int(input(\"Введіть кількість стовпців (M): \"))\n",
        "\n",
        "# Створення матриці з випадковими цілими числами від 1 до 10\n",
        "A = np.random.randint(1, 11, size=(N, M))\n",
        "\n",
        "# Виведення матриці\n",
        "print(\"Матриця A:\")\n",
        "print(A)\n",
        "\n",
        "# Обчислення середніх значень для кожного рядка\n",
        "row_means = np.mean(A, axis=1)\n",
        "print(\"\\nСередні значення для кожного рядка:\")\n",
        "print(row_means)\n",
        "\n",
        "# Обчислення середніх значень для кожного стовпця\n",
        "col_means = np.mean(A, axis=0)\n",
        "print(\"\\nСередні значення для кожного стовпця:\")\n",
        "print(col_means)\n",
        "\n"
      ],
      "metadata": {
        "colab": {
          "base_uri": "https://localhost:8080/"
        },
        "id": "nl8BV0IAD8cO",
        "outputId": "d4ff0543-dcdf-4e07-9c9c-a379230f6bf0"
      },
      "execution_count": 32,
      "outputs": [
        {
          "output_type": "stream",
          "name": "stdout",
          "text": [
            "Введіть кількість рядків (N): 3\n",
            "Введіть кількість стовпців (M): 3\n",
            "Матриця A:\n",
            "[[6 1 6]\n",
            " [6 1 8]\n",
            " [6 6 2]]\n",
            "\n",
            "Середні значення для кожного рядка:\n",
            "[4.33333333 5.         4.66666667]\n",
            "\n",
            "Середні значення для кожного стовпця:\n",
            "[6.         2.66666667 5.33333333]\n"
          ]
        }
      ]
    }
  ]
}